{
 "cells": [
  {
   "cell_type": "markdown",
   "metadata": {},
   "source": [
    "## Análisis de accidentes - Buses\n",
    "\n",
    "### Area metropolitana del Valle de Aburrá\n",
    "\n",
    "Manuela Cordoba\n",
    "\n",
    "Alejandro Fernandez\n",
    "\n",
    "Ana María Jaramillo\n"
   ]
  },
  {
   "cell_type": "code",
   "execution_count": 2,
   "metadata": {},
   "outputs": [],
   "source": [
    "import pandas as pd\n",
    "import config"
   ]
  },
  {
   "cell_type": "code",
   "execution_count": 3,
   "metadata": {},
   "outputs": [
    {
     "data": {
      "text/plain": [
       "Index(['radicado', 'periodo', 'tipo_geoco', 'gravedad', 'barrio', 'mes', 'dia',\n",
       "       'longitud', 'latitud', 'areagralus', 'cod_cat_us', 'cod_subcat',\n",
       "       'subcategor', 'hierarchy', 'road_class', 'estrato_pr',\n",
       "       'clase_accidente', 'clase_vehiculo', 'tipo_servicio', 'marca', 'modelo',\n",
       "       'zona', 'diseno', 'edad_conductor', 'sexo', 'dia_semana', 'hora'],\n",
       "      dtype='object')"
      ]
     },
     "execution_count": 3,
     "metadata": {},
     "output_type": "execute_result"
    }
   ],
   "source": [
    "cleaned_data = pd.read_excel(config.CLEANED_DATA_NO_MISSING)\n",
    "cleaned_data.columns"
   ]
  },
  {
   "cell_type": "markdown",
   "metadata": {},
   "source": [
    "### Revision column by column "
   ]
  },
  {
   "cell_type": "code",
   "execution_count": 1,
   "metadata": {},
   "outputs": [
    {
     "ename": "NameError",
     "evalue": "name 'cleaned_data' is not defined",
     "output_type": "error",
     "traceback": [
      "\u001b[1;31m---------------------------------------------------------------------------\u001b[0m",
      "\u001b[1;31mNameError\u001b[0m                                 Traceback (most recent call last)",
      "Cell \u001b[1;32mIn[1], line 1\u001b[0m\n\u001b[1;32m----> 1\u001b[0m \u001b[43mcleaned_data\u001b[49m[\u001b[38;5;124m\"\u001b[39m\u001b[38;5;124mperiodo\u001b[39m\u001b[38;5;124m\"\u001b[39m]\u001b[38;5;241m.\u001b[39munique()\n",
      "\u001b[1;31mNameError\u001b[0m: name 'cleaned_data' is not defined"
     ]
    }
   ],
   "source": [
    "cleaned_data[\"periodo\"].unique()"
   ]
  },
  {
   "cell_type": "markdown",
   "metadata": {},
   "source": [
    "### Translation"
   ]
  },
  {
   "cell_type": "code",
   "execution_count": 16,
   "metadata": {},
   "outputs": [
    {
     "data": {
      "text/plain": [
       "{'tipo_geoco': array(['malla_vial', 'epm_sin_interior', 'malla_vial_cruce_invertido',\n",
       "        'epm_con_interior', 'malla_vial_aproximada', 'no_ubicada',\n",
       "        'nomenclatura_con_interior', 'zona_rural'], dtype=object),\n",
       " 'gravedad': array(['herido', 'solo_danos', 'muerto'], dtype=object),\n",
       " 'diseno': array(['glorieta', 'tramo_de_via', 'interseccion', 'lote_o_predio',\n",
       "        'paso_elevado', 'puente', 'ciclo_ruta', 'paso_inferior',\n",
       "        'paso_a_nivel', 'tunel', 'ponton', 'via_peatonal'], dtype=object),\n",
       " 'areagralus': array(['areas_y_corredores_de_alta_mixtura',\n",
       "        'areas_y_corredores_de_media_mixtura', 'areas_de_baja_mixtura',\n",
       "        'espacio_publico_proyectado', 'espacio_publico_existente',\n",
       "        'uso_dotacional'], dtype=object),\n",
       " 'subcategor': array(['centralidades_con_predominancia_economica',\n",
       "        'zonas_de_transicion_centralidades_dotacionales_aglomeraciones_comerciales_y_de_servicios_barriales',\n",
       "        'areas_de_actividad_economica_en_trasformacion',\n",
       "        'centralidades_y_corredores_con_alta_mixtura',\n",
       "        'areas_predominantemente_residenciales',\n",
       "        'zonas_verdes_publicas_sistema_de_movilidad',\n",
       "        'zonas_verdes_publicas_sistema_hidrografico'], dtype=object),\n",
       " 'clase_accidente': array(['caida_ocupante', 'choque', 'atropello', 'otro', 'volcamiento',\n",
       "        'incendio'], dtype=object),\n",
       " 'clase_vehiculo': array(['bus', 'automovil', 'motocicleta', 'otros', 'camion', 'bicicleta'],\n",
       "       dtype=object),\n",
       " 'tipo_servicio': array(['publico', 'particular', 'desconocido', 'oficial', 'diplomatico',\n",
       "        'especial', 'otros'], dtype=object),\n",
       " 'sexo': array(['masculino', 'femenino', 'sin_inf'], dtype=object),\n",
       " 'dia_semana': array(['jue', 'mie', 'mar', 'sab', 'vie', 'lun', 'dom'], dtype=object)}"
      ]
     },
     "execution_count": 16,
     "metadata": {},
     "output_type": "execute_result"
    }
   ],
   "source": [
    "# Get unique strings from all columns with string values\n",
    "\n",
    "unique_strings = {}\n",
    "for column in config.COLUMNS_TO_TRANSLATE:\n",
    "    if cleaned_data[column].dtype == \"object\":\n",
    "        unique_strings[column] = cleaned_data[column].unique()\n",
    "\n",
    "unique_strings"
   ]
  },
  {
   "cell_type": "code",
   "execution_count": 17,
   "metadata": {},
   "outputs": [],
   "source": [
    "unique_strings_df = pd.DataFrame(\n",
    "    {col: pd.Series(values) for col, values in unique_strings.items()}\n",
    ")\n",
    "unique_strings_df.to_excel(config.UNIQUES_TRANSLATION, index=False)"
   ]
  },
  {
   "cell_type": "code",
   "execution_count": 18,
   "metadata": {},
   "outputs": [
    {
     "data": {
      "text/plain": [
       "['malla_vial',\n",
       " 'epm_sin_interior',\n",
       " 'malla_vial_cruce_invertido',\n",
       " 'epm_con_interior',\n",
       " 'malla_vial_aproximada',\n",
       " 'no_ubicada',\n",
       " 'nomenclatura_con_interior',\n",
       " 'zona_rural',\n",
       " 'herido',\n",
       " 'solo_danos',\n",
       " 'muerto',\n",
       " 'glorieta',\n",
       " 'tramo_de_via',\n",
       " 'interseccion',\n",
       " 'lote_o_predio',\n",
       " 'paso_elevado',\n",
       " 'puente',\n",
       " 'ciclo_ruta',\n",
       " 'paso_inferior',\n",
       " 'paso_a_nivel',\n",
       " 'tunel',\n",
       " 'ponton',\n",
       " 'via_peatonal',\n",
       " 'areas_y_corredores_de_alta_mixtura',\n",
       " 'areas_y_corredores_de_media_mixtura',\n",
       " 'areas_de_baja_mixtura',\n",
       " 'espacio_publico_proyectado',\n",
       " 'espacio_publico_existente',\n",
       " 'uso_dotacional',\n",
       " 'centralidades_con_predominancia_economica',\n",
       " 'zonas_de_transicion_centralidades_dotacionales_aglomeraciones_comerciales_y_de_servicios_barriales',\n",
       " 'areas_de_actividad_economica_en_trasformacion',\n",
       " 'centralidades_y_corredores_con_alta_mixtura',\n",
       " 'areas_predominantemente_residenciales',\n",
       " 'zonas_verdes_publicas_sistema_de_movilidad',\n",
       " 'zonas_verdes_publicas_sistema_hidrografico',\n",
       " 'caida_ocupante',\n",
       " 'choque',\n",
       " 'atropello',\n",
       " 'otro',\n",
       " 'volcamiento',\n",
       " 'incendio',\n",
       " 'bus',\n",
       " 'automovil',\n",
       " 'motocicleta',\n",
       " 'otros',\n",
       " 'camion',\n",
       " 'bicicleta',\n",
       " 'publico',\n",
       " 'particular',\n",
       " 'desconocido',\n",
       " 'oficial',\n",
       " 'diplomatico',\n",
       " 'especial',\n",
       " 'otros',\n",
       " 'masculino',\n",
       " 'femenino',\n",
       " 'sin_inf',\n",
       " 'jue',\n",
       " 'mie',\n",
       " 'mar',\n",
       " 'sab',\n",
       " 'vie',\n",
       " 'lun',\n",
       " 'dom']"
      ]
     },
     "execution_count": 18,
     "metadata": {},
     "output_type": "execute_result"
    }
   ],
   "source": [
    "unique_strings_vector = []\n",
    "for column in config.COLUMNS_TO_TRANSLATE:\n",
    "    if cleaned_data[column].dtype == \"object\":\n",
    "        temp = cleaned_data[column].unique()\n",
    "        unique_strings_vector.extend(temp)\n",
    "\n",
    "unique_strings_vector"
   ]
  },
  {
   "cell_type": "code",
   "execution_count": 19,
   "metadata": {},
   "outputs": [],
   "source": [
    "unique_strings_vecto_df = pd.DataFrame(unique_strings_vector)\n",
    "#unique_strings_vecto_df.to_excel('vector_uniques_for_translation.xlsx', index=False)"
   ]
  },
  {
   "cell_type": "code",
   "execution_count": 20,
   "metadata": {},
   "outputs": [
    {
     "data": {
      "text/html": [
       "<div>\n",
       "<style scoped>\n",
       "    .dataframe tbody tr th:only-of-type {\n",
       "        vertical-align: middle;\n",
       "    }\n",
       "\n",
       "    .dataframe tbody tr th {\n",
       "        vertical-align: top;\n",
       "    }\n",
       "\n",
       "    .dataframe thead th {\n",
       "        text-align: right;\n",
       "    }\n",
       "</style>\n",
       "<table border=\"1\" class=\"dataframe\">\n",
       "  <thead>\n",
       "    <tr style=\"text-align: right;\">\n",
       "      <th></th>\n",
       "      <th>radicado</th>\n",
       "      <th>periodo</th>\n",
       "      <th>tipo_geoco</th>\n",
       "      <th>gravedad</th>\n",
       "      <th>barrio</th>\n",
       "      <th>mes</th>\n",
       "      <th>dia</th>\n",
       "      <th>longitud</th>\n",
       "      <th>latitud</th>\n",
       "      <th>areagralus</th>\n",
       "      <th>...</th>\n",
       "      <th>clase_vehiculo</th>\n",
       "      <th>tipo_servicio</th>\n",
       "      <th>marca</th>\n",
       "      <th>modelo</th>\n",
       "      <th>zona</th>\n",
       "      <th>diseno</th>\n",
       "      <th>edad_conductor</th>\n",
       "      <th>sexo</th>\n",
       "      <th>dia_semana</th>\n",
       "      <th>hora</th>\n",
       "    </tr>\n",
       "  </thead>\n",
       "  <tbody>\n",
       "    <tr>\n",
       "      <th>0</th>\n",
       "      <td>1739400</td>\n",
       "      <td>2021</td>\n",
       "      <td>road_network</td>\n",
       "      <td>injured</td>\n",
       "      <td>prado</td>\n",
       "      <td>2</td>\n",
       "      <td>25</td>\n",
       "      <td>-75.563376</td>\n",
       "      <td>6.263505</td>\n",
       "      <td>high_mix_use_areas_and_corridors</td>\n",
       "      <td>...</td>\n",
       "      <td>bus</td>\n",
       "      <td>public</td>\n",
       "      <td>modasa</td>\n",
       "      <td>2011.0</td>\n",
       "      <td>comuna_3</td>\n",
       "      <td>glorieta</td>\n",
       "      <td>45.0</td>\n",
       "      <td>male</td>\n",
       "      <td>thursday</td>\n",
       "      <td>14</td>\n",
       "    </tr>\n",
       "    <tr>\n",
       "      <th>1</th>\n",
       "      <td>1735512</td>\n",
       "      <td>2021</td>\n",
       "      <td>road_network</td>\n",
       "      <td>material_damage_only</td>\n",
       "      <td>el_progreso</td>\n",
       "      <td>1</td>\n",
       "      <td>14</td>\n",
       "      <td>-75.578933</td>\n",
       "      <td>6.271674</td>\n",
       "      <td>medium_mix_use_areas_and_corridors</td>\n",
       "      <td>...</td>\n",
       "      <td>automobile</td>\n",
       "      <td>private</td>\n",
       "      <td>mazda</td>\n",
       "      <td>2011.0</td>\n",
       "      <td>comuna_7</td>\n",
       "      <td>road_segment</td>\n",
       "      <td>30.0</td>\n",
       "      <td>male</td>\n",
       "      <td>thursday</td>\n",
       "      <td>18</td>\n",
       "    </tr>\n",
       "    <tr>\n",
       "      <th>2</th>\n",
       "      <td>1735512</td>\n",
       "      <td>2021</td>\n",
       "      <td>road_network</td>\n",
       "      <td>material_damage_only</td>\n",
       "      <td>el_progreso</td>\n",
       "      <td>1</td>\n",
       "      <td>14</td>\n",
       "      <td>-75.578933</td>\n",
       "      <td>6.271674</td>\n",
       "      <td>medium_mix_use_areas_and_corridors</td>\n",
       "      <td>...</td>\n",
       "      <td>bus</td>\n",
       "      <td>public</td>\n",
       "      <td>agrale</td>\n",
       "      <td>2008.0</td>\n",
       "      <td>comuna_7</td>\n",
       "      <td>road_segment</td>\n",
       "      <td>58.0</td>\n",
       "      <td>male</td>\n",
       "      <td>thursday</td>\n",
       "      <td>18</td>\n",
       "    </tr>\n",
       "    <tr>\n",
       "      <th>3</th>\n",
       "      <td>1735374</td>\n",
       "      <td>2021</td>\n",
       "      <td>road_network</td>\n",
       "      <td>material_damage_only</td>\n",
       "      <td>caribe</td>\n",
       "      <td>1</td>\n",
       "      <td>13</td>\n",
       "      <td>-75.575081</td>\n",
       "      <td>6.266311</td>\n",
       "      <td>high_mix_use_areas_and_corridors</td>\n",
       "      <td>...</td>\n",
       "      <td>automobile</td>\n",
       "      <td>private</td>\n",
       "      <td>renault</td>\n",
       "      <td>2017.0</td>\n",
       "      <td>comuna_7</td>\n",
       "      <td>road_segment</td>\n",
       "      <td>55.0</td>\n",
       "      <td>male</td>\n",
       "      <td>wednesday</td>\n",
       "      <td>19</td>\n",
       "    </tr>\n",
       "    <tr>\n",
       "      <th>4</th>\n",
       "      <td>1735374</td>\n",
       "      <td>2021</td>\n",
       "      <td>road_network</td>\n",
       "      <td>material_damage_only</td>\n",
       "      <td>caribe</td>\n",
       "      <td>1</td>\n",
       "      <td>13</td>\n",
       "      <td>-75.575081</td>\n",
       "      <td>6.266311</td>\n",
       "      <td>high_mix_use_areas_and_corridors</td>\n",
       "      <td>...</td>\n",
       "      <td>bus</td>\n",
       "      <td>public</td>\n",
       "      <td>chevrolet</td>\n",
       "      <td>2015.0</td>\n",
       "      <td>comuna_7</td>\n",
       "      <td>road_segment</td>\n",
       "      <td>30.0</td>\n",
       "      <td>male</td>\n",
       "      <td>wednesday</td>\n",
       "      <td>19</td>\n",
       "    </tr>\n",
       "  </tbody>\n",
       "</table>\n",
       "<p>5 rows × 27 columns</p>\n",
       "</div>"
      ],
      "text/plain": [
       "   radicado  periodo    tipo_geoco              gravedad       barrio  mes  \\\n",
       "0   1739400     2021  road_network               injured        prado    2   \n",
       "1   1735512     2021  road_network  material_damage_only  el_progreso    1   \n",
       "2   1735512     2021  road_network  material_damage_only  el_progreso    1   \n",
       "3   1735374     2021  road_network  material_damage_only       caribe    1   \n",
       "4   1735374     2021  road_network  material_damage_only       caribe    1   \n",
       "\n",
       "   dia   longitud   latitud                          areagralus  ...  \\\n",
       "0   25 -75.563376  6.263505    high_mix_use_areas_and_corridors  ...   \n",
       "1   14 -75.578933  6.271674  medium_mix_use_areas_and_corridors  ...   \n",
       "2   14 -75.578933  6.271674  medium_mix_use_areas_and_corridors  ...   \n",
       "3   13 -75.575081  6.266311    high_mix_use_areas_and_corridors  ...   \n",
       "4   13 -75.575081  6.266311    high_mix_use_areas_and_corridors  ...   \n",
       "\n",
       "   clase_vehiculo  tipo_servicio      marca  modelo      zona        diseno  \\\n",
       "0             bus         public     modasa  2011.0  comuna_3      glorieta   \n",
       "1      automobile        private      mazda  2011.0  comuna_7  road_segment   \n",
       "2             bus         public     agrale  2008.0  comuna_7  road_segment   \n",
       "3      automobile        private    renault  2017.0  comuna_7  road_segment   \n",
       "4             bus         public  chevrolet  2015.0  comuna_7  road_segment   \n",
       "\n",
       "  edad_conductor  sexo dia_semana hora  \n",
       "0           45.0  male   thursday   14  \n",
       "1           30.0  male   thursday   18  \n",
       "2           58.0  male   thursday   18  \n",
       "3           55.0  male  wednesday   19  \n",
       "4           30.0  male  wednesday   19  \n",
       "\n",
       "[5 rows x 27 columns]"
      ]
     },
     "execution_count": 20,
     "metadata": {},
     "output_type": "execute_result"
    }
   ],
   "source": [
    "# Loop through each column in the DataFrame\n",
    "for column in cleaned_data.columns:\n",
    "    # Check if the column has dtype 'object' (i.e., strings)\n",
    "    if cleaned_data[column].dtype == \"object\":\n",
    "        # Use the replace method with your translation_dict\n",
    "        cleaned_data[column] = cleaned_data[column].replace(config.DICTIONARY_TRANSLATION)\n",
    "\n",
    "cleaned_data.head()"
   ]
  },
  {
   "cell_type": "code",
   "execution_count": 21,
   "metadata": {},
   "outputs": [
    {
     "data": {
      "text/plain": [
       "Index(['radicado', 'periodo', 'tipo_geoco', 'gravedad', 'barrio', 'mes', 'dia',\n",
       "       'longitud', 'latitud', 'areagralus', 'cod_cat_us', 'cod_subcat',\n",
       "       'subcategor', 'hierarchy', 'road_class', 'estrato_pr',\n",
       "       'clase_accidente', 'clase_vehiculo', 'tipo_servicio', 'marca', 'modelo',\n",
       "       'zona', 'diseno', 'edad_conductor', 'sexo', 'dia_semana', 'hora'],\n",
       "      dtype='object')"
      ]
     },
     "execution_count": 21,
     "metadata": {},
     "output_type": "execute_result"
    }
   ],
   "source": [
    "cleaned_data.columns"
   ]
  },
  {
   "cell_type": "code",
   "execution_count": 22,
   "metadata": {},
   "outputs": [],
   "source": [
    "cleaned_data.to_excel(config.CLEANED_TRASNLATED_DATA, index=False)"
   ]
  },
  {
   "cell_type": "markdown",
   "metadata": {},
   "source": [
    "#### Hace falta traducir los nombres de las columnas, pero eso cambiaría los siguientes Notebooks. \n",
    "#### Por ahora se va a omitir."
   ]
  }
 ],
 "metadata": {
  "kernelspec": {
   "display_name": "my_venv",
   "language": "python",
   "name": "python3"
  },
  "language_info": {
   "codemirror_mode": {
    "name": "ipython",
    "version": 3
   },
   "file_extension": ".py",
   "mimetype": "text/x-python",
   "name": "python",
   "nbconvert_exporter": "python",
   "pygments_lexer": "ipython3",
   "version": "3.10.11"
  },
  "orig_nbformat": 4
 },
 "nbformat": 4,
 "nbformat_minor": 2
}
