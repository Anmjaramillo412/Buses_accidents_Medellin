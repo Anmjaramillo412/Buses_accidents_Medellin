{
 "cells": [
  {
   "cell_type": "markdown",
   "metadata": {},
   "source": [
    "## Análisis de accidentes - Buses\n",
    "\n",
    "### Area metropolitana del Valle de Aburrá\n",
    "\n",
    "Manuela Cordoba\n",
    "\n",
    "Alejandro Fernandez\n",
    "\n",
    "Ana María Jaramillo"
   ]
  },
  {
   "cell_type": "code",
   "execution_count": 1,
   "metadata": {},
   "outputs": [],
   "source": [
    "import pandas as pd\n",
    "import config\n",
    "\n",
    "loaded_cleaned_data = pd.read_excel(config.CLEANED_TRASNLATED_DATA)"
   ]
  },
  {
   "cell_type": "code",
   "execution_count": 2,
   "metadata": {},
   "outputs": [],
   "source": [
    "loaded_cleaned_data['gravedad'].value_counts()\n",
    "loaded_cleaned_data['gravedad'] = loaded_cleaned_data['gravedad'].replace('material_damage_only', 'damage_only')\n",
    "loaded_cleaned_data['gravedad'] = loaded_cleaned_data['gravedad'].replace('fatality', 'injured')"
   ]
  },
  {
   "cell_type": "code",
   "execution_count": 3,
   "metadata": {},
   "outputs": [],
   "source": [
    "gravedad_one_hot = pd.get_dummies(loaded_cleaned_data['gravedad'], prefix='gravedad')\n",
    "\n",
    "# Merge the one-hot encoded columns back into the original DataFrame\n",
    "cleaned_data_with_one_hot = pd.concat([loaded_cleaned_data, gravedad_one_hot], axis=1)"
   ]
  },
  {
   "cell_type": "code",
   "execution_count": 4,
   "metadata": {},
   "outputs": [
    {
     "data": {
      "application/vnd.jupyter.widget-view+json": {
       "model_id": "322d5931b5f34b14b74c66ab99e9b48e",
       "version_major": 2,
       "version_minor": 0
      },
      "text/plain": [
       "                                             |          | [  0%]   00:00 -> (? left)"
      ]
     },
     "metadata": {},
     "output_type": "display_data"
    },
    {
     "name": "stdout",
     "output_type": "stream",
     "text": [
      "Report ../data/Translated_data_report.html was generated! NOTEBOOK/COLAB USERS: the web browser MAY not pop up, regardless, the report IS saved in your notebook/colab files.\n"
     ]
    }
   ],
   "source": [
    "import sweetviz as sv\n",
    "\n",
    "# Generate the report\n",
    "report = sv.analyze(loaded_cleaned_data)\n",
    "\n",
    "# Display the report in your Jupyter Notebook\n",
    "report.show_html(config.TRANSLATED_DATA_REPORT)"
   ]
  },
  {
   "cell_type": "code",
   "execution_count": 5,
   "metadata": {},
   "outputs": [
    {
     "data": {
      "application/vnd.jupyter.widget-view+json": {
       "model_id": "2da4eb45c70546b592561065010c964e",
       "version_major": 2,
       "version_minor": 0
      },
      "text/plain": [
       "                                             |          | [  0%]   00:00 -> (? left)"
      ]
     },
     "metadata": {},
     "output_type": "display_data"
    },
    {
     "name": "stdout",
     "output_type": "stream",
     "text": [
      "Report ../data/Translated_data_report_by_categpry.html was generated! NOTEBOOK/COLAB USERS: the web browser MAY not pop up, regardless, the report IS saved in your notebook/colab files.\n"
     ]
    }
   ],
   "source": [
    "import sweetviz as sv\n",
    "\n",
    "# Generate the report with intra-comparison\n",
    "report = sv.compare_intra(cleaned_data_with_one_hot, cleaned_data_with_one_hot['gravedad_injured'] == 1, ['injured','only_material_damage'])\n",
    "\n",
    "# Display the report in your Jupyter Notebook\n",
    "report.show_html(config.TRANSLATED_DATA_REPORT_BY_CATEGORY)"
   ]
  }
 ],
 "metadata": {
  "kernelspec": {
   "display_name": "my_venv310",
   "language": "python",
   "name": "python3"
  },
  "language_info": {
   "codemirror_mode": {
    "name": "ipython",
    "version": 3
   },
   "file_extension": ".py",
   "mimetype": "text/x-python",
   "name": "python",
   "nbconvert_exporter": "python",
   "pygments_lexer": "ipython3",
   "version": "3.10.11"
  }
 },
 "nbformat": 4,
 "nbformat_minor": 2
}
